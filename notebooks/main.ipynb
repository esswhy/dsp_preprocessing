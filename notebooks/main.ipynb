{
 "cells": [
  {
   "cell_type": "code",
   "execution_count": 1,
   "outputs": [
    {
     "name": "stdout",
     "output_type": "stream",
     "text": [
      "59.19999999999998\n",
      "{3: 59.19999999999998, 4: 3.549999999999984, 5: 2.5999799999999205, 6: 85.60000000000005, 7: 46.05001000000002, 8: 2.7999999999999416, 9: 66.50000000000001, 10: 36.65000000000001, 11: 43.40000000000003, 12: 43.55000000000004, 13: 13.249999999999995, 14: 171.55000000000004, 15: 46.7, 16: 2.8999999999999417, 17: 61.00003000000002, 18: 75.65, 19: 13.399999999999912, 20: 71.34989999999999, 21: 51.15, 22: 20.000000000000032}\n",
      "0.45454545454545453\n",
      "{3: 0.45454545454545453, 4: 1.0, 5: 1.0, 6: 1, 7: 0.6, 8: 0.9166666666666666, 9: 0.8095238095238095, 10: 0.4444444444444444, 11: 0.058823529411764705, 12: 0.2727272727272727, 13: 0.3333333333333333, 14: 0.5161290322580645, 15: 1, 16: 0.7777777777777778, 17: 0.3333333333333333, 18: 0.56, 19: 0.45, 20: 0.3055555555555556, 21: 0.7777777777777778, 22: 0.7777777777777778}\n"
     ]
    }
   ],
   "source": [
    "from analysis import Loader\n",
    "from analysis import MovementAnalyzer, RotationAnalyzer\n",
    "\n",
    "loader = Loader(data_dir=\"../data\", extra_dir=\"../extra\", image_dir=\"../images\")\n",
    "loader.load(learning=True)\n",
    "lexie_test = loader.subjects[\"lexietest\"]\n",
    "\n",
    "# loader.subjects contains Subject object which named after the data folder(e.g. lexietest)\n",
    "# Subject contains movement_sequence, rotation_sequence (and meta)\n",
    "# both are dictionary with trial_number as key\n",
    "# MovementData is the value for each item in movement_sequence, it contains trial_name, trial_number, trial_time (since that trial started), x, y,\n",
    "# RotationData is the value for each item in rotation_sequence, it contains trial_name, trial_number, trial_time (how much time does that trial take), rotation\n",
    "\n",
    "# Currently the movement analyzer can only handle normal (not alternative) trials, will add that later this week\n",
    "movement_analyzer = MovementAnalyzer(loader)\n",
    "\n",
    "# rotation analyzer gives the absolute angular error for each trial (both normal and alternative)\n",
    "rotation_analyzer = RotationAnalyzer(loader)\n",
    "\n",
    "# for n in range(3, 23):\n",
    "#     err = rotation_analyzer.calculate_estimation_error(\"lexietest\", n)\n",
    "#     print(f\"TrialNumber {n}, estimation error {err}\")\n",
    "#\n",
    "# # Noted that though the trial number is always from 3-23, the starting location and target is different between pointing and wayfinding\n",
    "# for n in range(3, 23):\n",
    "#     X, Y = movement_analyzer.load_xy(lexie_test, trial_number=n)\n",
    "#     movement_analyzer.draw(n, X, Y)\n",
    "\n",
    "excluding = [\"CY4GO\", \"PE12LE\", \"MA14BL_learn_point\", \"JU11SI\", \"sa13pe\"]\n",
    "\n",
    "# for n in range(3, 23):\n",
    "#     err = rotation_analyzer.calculate_estimation_error(\"lexietest\", n)\n",
    "#     print(f\"TrialNumber {n}, estimation error {err}\")\n",
    "\n",
    "errors = rotation_analyzer.calculate_all_estimation_error_for_all(3, 23, excluding=excluding)\n",
    "\n",
    "print(errors[\"lexietest\"][3]) # Print just one subject's error on trial 3\n",
    "print(errors[\"lexietest\"]) # Print just one subject's error on all trials\n",
    "\n",
    "\n",
    "# Noted that though the trial number is always from 3-23, the starting location and target is different between pointing and wayfinding\n",
    "# for n in range(3, 23):\n",
    "#     X, Y = movement_analyzer.load_xy(lexie_test, trial_number=n)\n",
    "#     movement_analyzer.draw(n, X, Y)\n",
    "# print(movement_analyzer.calculate_efficiency_all(\"lexietest\"))\n",
    "\n",
    "efficiencies = movement_analyzer.calculate_efficiency_for_all(excluding=excluding)\n",
    "\n",
    "\n",
    "print(efficiencies[\"lexietest\"][3]) # Print just one subject's error on trial 3\n",
    "print(efficiencies[\"lexietest\"]) # Print just one subject's error on all trials"
   ],
   "metadata": {
    "collapsed": false
   }
  },
  {
   "cell_type": "code",
   "execution_count": 1,
   "outputs": [],
   "source": [],
   "metadata": {
    "collapsed": false
   }
  }
 ],
 "metadata": {
  "kernelspec": {
   "display_name": "Python 3",
   "language": "python",
   "name": "python3"
  },
  "language_info": {
   "codemirror_mode": {
    "name": "ipython",
    "version": 2
   },
   "file_extension": ".py",
   "mimetype": "text/x-python",
   "name": "python",
   "nbconvert_exporter": "python",
   "pygments_lexer": "ipython2",
   "version": "2.7.6"
  }
 },
 "nbformat": 4,
 "nbformat_minor": 0
}
