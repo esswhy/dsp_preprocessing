{
 "cells": [
  {
   "cell_type": "markdown",
   "metadata": {},
   "source": [
    "# New DSP VR Desktop Preprocessing Script\n",
    "\n",
    "This script preprocesses the raw files exported from the new DSP VR desktop task, which allows customization for mouse sensitivity and speed.\n",
    "\n",
    "**Written by:** Frederick Rong Fei\n",
    "\n",
    "**Modified by:** Shuying Yu"
   ]
  },
  {
   "cell_type": "markdown",
   "metadata": {},
   "source": [
    "## Folder Setup\n",
    "\n",
    "Prior to running the script, move the subject's folder into the `data` folder. The subject folder should contain the following four raw files:\n",
    "\n",
    "- `meta.txt`\n",
    "- `movement.csv`\n",
    "- `rotation.csv`\n",
    "- `timeout.txt`"
   ]
  },
  {
   "cell_type": "code",
   "execution_count": 1,
   "metadata": {},
   "outputs": [
    {
     "name": "stdout",
     "output_type": "stream",
     "text": [
      "Exported to mean.csv\n",
      "Exported to all.csv\n"
     ]
    }
   ],
   "source": [
    "# Load Python libraries and modules\n",
    "import numpy\n",
    "import matplotlib\n",
    "\n",
    "from analysis import Loader\n",
    "from analysis import MovementAnalyzer, RotationAnalyzer\n",
    "from analysis import Exporter\n",
    "\n",
    "\n",
    "loader = Loader(data_dir=\"data\", \n",
    "                extra_dir=\"extra\", \n",
    "                image_dir=\"images\")\n",
    "loader.load(learning=True)\n",
    "\n",
    "# loader.subjects contains Subject object which named after the data folder (e.g. lexietest)\n",
    "# Subject contains movement_sequence, rotation_sequence (and meta)\n",
    "# both are dictionary with trial_number as key\n",
    "# MovementData is the value for each item in movement_sequence, it contains trial_name, trial_number, trial_time (since that trial started), x, y,\n",
    "# RotationData is the value for each item in rotation_sequence, it contains trial_name, trial_number, trial_time (how much time does that trial take), rotation\n",
    "\n",
    "\n",
    "# Currently the movement analyzer can only handle normal (not alternative) trials, will add that later this week\n",
    "movement_analyzer = MovementAnalyzer(loader)\n",
    "\n",
    "# rotation analyzer gives the absolute angular error for each trial (both normal and alternative)\n",
    "rotation_analyzer = RotationAnalyzer(loader)\n",
    "\n",
    "# for n in range(3, 23):\n",
    "#     err = rotation_analyzer.calculate_estimation_error(\"lexietest\", n)\n",
    "#     print(f\"TrialNumber {n}, estimation error {err}\")\n",
    "#\n",
    "# # Noted that though the trial number is always from 3-23, the starting location and target is different between pointing and wayfinding\n",
    "# for n in range(3, 23):\n",
    "#     X, Y = movement_analyzer.load_xy(lexie_test, trial_number=n)\n",
    "#     movement_analyzer.draw(n, X, Y)\n",
    "\n",
    "excluding = [\"CY4GO\", \"PE12LE\", \"MA14BL_learn_point\", \"JU11SI\", \"sa13pe\"]\n",
    "\n",
    "# for n in range(3, 23):\n",
    "#     err = rotation_analyzer.calculate_estimation_error(\"lexietest\", n)\n",
    "#     print(f\"TrialNumber {n}, estimation error {err}\")\n",
    "\n",
    "errors = rotation_analyzer.calculate_all_estimation_error_for_all(3, 23, excluding=excluding)\n",
    "\n",
    "# print(errors[\"lexietest\"][3]) # Print just one subject's error on trial 3\n",
    "# print(errors[\"lexietest\"]) # Print just one subject's error on all trials\n",
    "\n",
    "\n",
    "# Noted that though the trial number is always from 3-23, the starting location and target is different between pointing and wayfinding\n",
    "# for n in range(3, 23):\n",
    "#     X, Y = movement_analyzer.load_xy(lexie_test, trial_number=n)\n",
    "#     movement_analyzer.draw(n, X, Y)\n",
    "# print(movement_analyzer.calculate_efficiency_all(\"lexietest\"))\n",
    "\n",
    "efficiencies = movement_analyzer.calculate_efficiency_for_all(excluding=excluding)\n",
    "\n",
    "\n",
    "# print(efficiencies[\"lexietest\"][3]) # Print just one subject's error on trial 3\n",
    "# print(efficiencies[\"lexietest\"]) # Print just one subject's error on all trials\n",
    "\n",
    "Exporter.export_to_csv(errors, efficiencies, \"mean.csv\", operation=\"mean\")\n",
    "Exporter.export_to_csv(errors, efficiencies, \"all.csv\", operation=\"all\")\n"
   ]
  },
  {
   "cell_type": "markdown",
   "metadata": {},
   "source": [
    "## Final Preprocessed Files\n",
    "\n",
    "Once run, the script will generate the following two files for ths subject:\n",
    "\n",
    "- `mean.csv`\n",
    "- `all.csv`"
   ]
  },
  {
   "cell_type": "code",
   "execution_count": null,
   "metadata": {},
   "outputs": [],
   "source": []
  }
 ],
 "metadata": {
  "kernelspec": {
   "display_name": "Python 3",
   "language": "python",
   "name": "python3"
  },
  "language_info": {
   "codemirror_mode": {
    "name": "ipython",
    "version": 3
   },
   "file_extension": ".py",
   "mimetype": "text/x-python",
   "name": "python",
   "nbconvert_exporter": "python",
   "pygments_lexer": "ipython3",
   "version": "3.7.1"
  }
 },
 "nbformat": 4,
 "nbformat_minor": 1
}
